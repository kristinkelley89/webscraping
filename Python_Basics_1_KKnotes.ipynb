{
 "cells": [
  {
   "cell_type": "markdown",
   "metadata": {
    "slideshow": {
     "slide_type": "slide"
    }
   },
   "source": [
    "# Python Basics I"
   ]
  },
  {
   "cell_type": "markdown",
   "metadata": {
    "slideshow": {
     "slide_type": "subslide"
    }
   },
   "source": [
    "The very first Python \"programme\":"
   ]
  },
  {
   "cell_type": "code",
   "execution_count": 4,
   "metadata": {},
   "outputs": [
    {
     "data": {
      "text/plain": [
       "'Kristins notebook'"
      ]
     },
     "execution_count": 4,
     "metadata": {},
     "output_type": "execute_result"
    }
   ],
   "source": [
    "'Kristins notebook'"
   ]
  },
  {
   "cell_type": "code",
   "execution_count": 19,
   "metadata": {
    "scrolled": true,
    "slideshow": {
     "slide_type": "fragment"
    }
   },
   "outputs": [
    {
     "data": {
      "text/plain": [
       "'Helloooooo!By definition, a sequence of characters - this is a string.'"
      ]
     },
     "execution_count": 19,
     "metadata": {},
     "output_type": "execute_result"
    }
   ],
   "source": [
    "'Helloooooo!' 'By definition, a sequence of characters - this is a string.'"
   ]
  },
  {
   "cell_type": "code",
   "execution_count": null,
   "metadata": {},
   "outputs": [],
   "source": []
  },
  {
   "cell_type": "code",
   "execution_count": null,
   "metadata": {},
   "outputs": [],
   "source": []
  },
  {
   "cell_type": "code",
   "execution_count": null,
   "metadata": {},
   "outputs": [],
   "source": []
  },
  {
   "cell_type": "markdown",
   "metadata": {
    "slideshow": {
     "slide_type": "subslide"
    }
   },
   "source": [
    "Python as calculator:"
   ]
  },
  {
   "cell_type": "code",
   "execution_count": 2,
   "metadata": {
    "slideshow": {
     "slide_type": "fragment"
    }
   },
   "outputs": [
    {
     "data": {
      "text/plain": [
       "2.0"
      ]
     },
     "execution_count": 2,
     "metadata": {},
     "output_type": "execute_result"
    }
   ],
   "source": [
    "8 / 4"
   ]
  },
  {
   "cell_type": "markdown",
   "metadata": {
    "slideshow": {
     "slide_type": "subslide"
    }
   },
   "source": [
    "If more output is displayed across one cell `print()` statements have to be separated:"
   ]
  },
  {
   "cell_type": "code",
   "execution_count": 7,
   "metadata": {
    "slideshow": {
     "slide_type": "fragment"
    }
   },
   "outputs": [
    {
     "name": "stdout",
     "output_type": "stream",
     "text": [
      "3\n",
      "3\n",
      "1\n",
      "1.0\n"
     ]
    },
    {
     "data": {
      "text/plain": [
       "3"
      ]
     },
     "execution_count": 7,
     "metadata": {},
     "output_type": "execute_result"
    }
   ],
   "source": [
    "print(0 + 3)\n",
    "print(0+3)\n",
    "print(4 // 4)\n",
    "print(4/4)\n",
    "\n",
    "0+3"
   ]
  },
  {
   "cell_type": "code",
   "execution_count": null,
   "metadata": {},
   "outputs": [],
   "source": []
  },
  {
   "cell_type": "markdown",
   "metadata": {
    "slideshow": {
     "slide_type": "subslide"
    }
   },
   "source": [
    "**Data types:**\n",
    "* int (integral/non-fractional components)\n",
    "* float (Fractional components)\n",
    "* str (sequence of characters)\n",
    "\n",
    "**Operators:**\n",
    "* Arithmetic operators (`+`, `-`, `/`, `*`, etc.)\n",
    "* Logigal (boolean) operators (`and`, `or`, `not`, `==`, etc.)\n",
    "\n",
    "**Comments:**"
   ]
  },
  {
   "cell_type": "code",
   "execution_count": 21,
   "metadata": {
    "slideshow": {
     "slide_type": "fragment"
    }
   },
   "outputs": [
    {
     "data": {
      "text/plain": [
       "'this is not a number'"
      ]
     },
     "execution_count": 21,
     "metadata": {},
     "output_type": "execute_result"
    }
   ],
   "source": [
    "'this is not a number' # <--  Make extensive use of comments throughout your code! This hashtag is the bomb."
   ]
  },
  {
   "cell_type": "markdown",
   "metadata": {
    "slideshow": {
     "slide_type": "subslide"
    }
   },
   "source": [
    "Adding and multiplying even works with strings (sequence of characters):"
   ]
  },
  {
   "cell_type": "code",
   "execution_count": 23,
   "metadata": {
    "scrolled": false,
    "slideshow": {
     "slide_type": "fragment"
    }
   },
   "outputs": [
    {
     "name": "stdout",
     "output_type": "stream",
     "text": [
      "string1___string2\n",
      "Kristin Kelley\n",
      "string1string1string1string1string1string1string1string1string1string1string1string1string1string1string1string1string1string1string1string1string1string1string1string1string1string1string1string1string1string1string1string1string1string1string1string1string1string1string1string1string1string1string1string1string1string1string1string1string1string1string1string1string1string1string1string1string1string1string1string1string1string1string1string1string1string1string1string1string1string1string1string1string1string1string1string1string1string1string1\n"
     ]
    }
   ],
   "source": [
    "print('string1' + '___' + 'string2')\n",
    "print('Kristin' + ' ' + 'Kelley')\n",
    "print('string1' * 79) # Multiply string with a number"
   ]
  },
  {
   "cell_type": "markdown",
   "metadata": {
    "slideshow": {
     "slide_type": "slide"
    }
   },
   "source": [
    "## Assignment in Python\n",
    "\n",
    "In order to store objects in the machine's memory (`namespace`) and to use them they need to be assigned to a unique representing symbol.\n",
    "\n",
    "``Symbol = Object``"
   ]
  },
  {
   "cell_type": "code",
   "execution_count": 30,
   "metadata": {
    "slideshow": {
     "slide_type": "fragment"
    }
   },
   "outputs": [
    {
     "name": "stdout",
     "output_type": "stream",
     "text": [
      "bacon, eggs and eggsmore spam\n"
     ]
    }
   ],
   "source": [
    "spam = 'bacon, eggs and eggs' # for those of us familiar with Stata, symbol = variable name ?\n",
    "me = 'kristin kaye kelley'\n",
    "meage = 31\n",
    "print(spam + 'more spam') # print values held in spam + an addition to the list \"more spam\""
   ]
  },
  {
   "cell_type": "markdown",
   "metadata": {
    "slideshow": {
     "slide_type": "subslide"
    }
   },
   "source": [
    "Using the [magic command](https://ipython.readthedocs.io/en/stable/interactive/magics.html) `%whos` all cached variables/objects can be retrieved:"
   ]
  },
  {
   "cell_type": "code",
   "execution_count": 31,
   "metadata": {
    "slideshow": {
     "slide_type": "fragment"
    }
   },
   "outputs": [
    {
     "name": "stdout",
     "output_type": "stream",
     "text": [
      "Variable   Type    Data/Info\n",
      "----------------------------\n",
      "me         str     kristin kaye kelley\n",
      "meage      int     31\n",
      "spam       str     bacon, eggs and eggs\n"
     ]
    }
   ],
   "source": [
    "%whos\n",
    "# shows all variables/symbols "
   ]
  },
  {
   "cell_type": "markdown",
   "metadata": {
    "slideshow": {
     "slide_type": "subslide"
    }
   },
   "source": [
    "If symbols are called that are not existent in the cache an error message is thrown:"
   ]
  },
  {
   "cell_type": "markdown",
   "metadata": {},
   "source": [
    "Ctrl + S will save and checkpoint"
   ]
  },
  {
   "cell_type": "code",
   "execution_count": 32,
   "metadata": {},
   "outputs": [],
   "source": [
    "spam2 = 'second string'"
   ]
  },
  {
   "cell_type": "code",
   "execution_count": 33,
   "metadata": {},
   "outputs": [
    {
     "name": "stdout",
     "output_type": "stream",
     "text": [
      "Variable   Type    Data/Info\n",
      "----------------------------\n",
      "me         str     kristin kaye kelley\n",
      "meage      int     31\n",
      "spam       str     bacon, eggs and eggs\n",
      "spam2      str     second string\n"
     ]
    }
   ],
   "source": [
    "%whos"
   ]
  },
  {
   "cell_type": "code",
   "execution_count": 34,
   "metadata": {},
   "outputs": [],
   "source": [
    "spam = 'new string value'"
   ]
  },
  {
   "cell_type": "code",
   "execution_count": 35,
   "metadata": {},
   "outputs": [
    {
     "name": "stdout",
     "output_type": "stream",
     "text": [
      "Variable   Type    Data/Info\n",
      "----------------------------\n",
      "me         str     kristin kaye kelley\n",
      "meage      int     31\n",
      "spam       str     new string value\n",
      "spam2      str     second string\n"
     ]
    }
   ],
   "source": [
    "%whos"
   ]
  },
  {
   "cell_type": "markdown",
   "metadata": {},
   "source": [
    "PYTHON objects are case sensitive! "
   ]
  },
  {
   "cell_type": "code",
   "execution_count": 37,
   "metadata": {
    "scrolled": true,
    "slideshow": {
     "slide_type": "fragment"
    }
   },
   "outputs": [
    {
     "ename": "NameError",
     "evalue": "name 'some_vAriable' is not defined",
     "output_type": "error",
     "traceback": [
      "\u001b[0;31m---------------------------------------------------------------------------\u001b[0m",
      "\u001b[0;31mNameError\u001b[0m                                 Traceback (most recent call last)",
      "\u001b[0;32m<ipython-input-37-683b83567db2>\u001b[0m in \u001b[0;36m<module>\u001b[0;34m\u001b[0m\n\u001b[1;32m      1\u001b[0m \u001b[0msome_variable\u001b[0m \u001b[0;34m=\u001b[0m \u001b[0;34m'spam'\u001b[0m\u001b[0;34m\u001b[0m\u001b[0;34m\u001b[0m\u001b[0m\n\u001b[0;32m----> 2\u001b[0;31m \u001b[0msome_vAriable\u001b[0m\u001b[0;34m\u001b[0m\u001b[0;34m\u001b[0m\u001b[0m\n\u001b[0m",
      "\u001b[0;31mNameError\u001b[0m: name 'some_vAriable' is not defined"
     ]
    }
   ],
   "source": [
    "some_variable = 'spam'\n",
    "some_vAriable"
   ]
  },
  {
   "cell_type": "markdown",
   "metadata": {
    "slideshow": {
     "slide_type": "subslide"
    }
   },
   "source": [
    "### Exercise 1\n",
    "\n",
    "Solve the riddle **Zero** of the **[Python-Challenge](http://www.pythonchallenge.com)**:\n",
    "\n",
    "> What is the Python Challenge? \n",
    "> The Python Challenge is a set of riddles that require a little bit of Python programming to be solved. The solutions are  entered by changing the address of the page (URL). You get used to the idea pretty fast after solving the first few levels.\n",
    "\n",
    "*Hint: Most Python problems can be solved by a quick [Google Search](http://lmgtfy.com/?q=how+to+do+exponentiation+in+python).*"
   ]
  },
  {
   "cell_type": "code",
   "execution_count": 39,
   "metadata": {
    "scrolled": true,
    "slideshow": {
     "slide_type": "subslide"
    }
   },
   "outputs": [
    {
     "data": {
      "text/html": [
       "\n",
       "        <iframe\n",
       "            width=\"800\"\n",
       "            height=\"400\"\n",
       "            src=\"http://www.pythonchallenge.com/pc/def/0.html\"\n",
       "            frameborder=\"0\"\n",
       "            allowfullscreen\n",
       "        ></iframe>\n",
       "        "
      ],
      "text/plain": [
       "<IPython.lib.display.IFrame at 0x7fa244f793d0>"
      ]
     },
     "execution_count": 39,
     "metadata": {},
     "output_type": "execute_result"
    }
   ],
   "source": [
    "from IPython.display import IFrame\n",
    "IFrame('http://www.pythonchallenge.com/pc/def/0.html', width = 800, height = 400)"
   ]
  },
  {
   "cell_type": "code",
   "execution_count": 45,
   "metadata": {
    "slideshow": {
     "slide_type": "subslide"
    }
   },
   "outputs": [
    {
     "name": "stdout",
     "output_type": "stream",
     "text": [
      "36\n",
      "Variable        Type    Data/Info\n",
      "---------------------------------\n",
      "IFrame          type    <class 'IPython.lib.display.IFrame'>\n",
      "me              str     kristin kaye kelley\n",
      "meage           int     31\n",
      "some_variable   str     spam\n",
      "spam            str     new string value\n",
      "spam2           str     second string\n"
     ]
    },
    {
     "data": {
      "text/plain": [
       "'274877906944'"
      ]
     },
     "execution_count": 45,
     "metadata": {},
     "output_type": "execute_result"
    }
   ],
   "source": [
    "# Code for Exercise 1\n",
    "# What's happening? No idea. \n",
    "# Replace the 0, by taking 2 to the power of 38, says the economic professor\n",
    "print(2^38)\n",
    "2^38\n",
    "%whos\n",
    "#Solution from Gerome\n",
    "next_riddle = str(2**38)\n",
    "srong_answer = str(238)\n",
    "IFrame('http://www.pythonchallenge.com/pc/def/') + wrong_answer + # I didn't get it. Refer to Jupyter notebook.\n"
   ]
  },
  {
   "cell_type": "markdown",
   "metadata": {
    "slideshow": {
     "slide_type": "subslide"
    }
   },
   "source": [
    "### Exercise 2\n",
    "\n",
    "Write Python code that returns the amount of hours within seven weeks. Use object-oriented programming."
   ]
  },
  {
   "cell_type": "code",
   "execution_count": 51,
   "metadata": {
    "slideshow": {
     "slide_type": "subslide"
    }
   },
   "outputs": [
    {
     "name": "stdout",
     "output_type": "stream",
     "text": [
      "In seven weeks there are a total number of 1176 hours.\n"
     ]
    }
   ],
   "source": [
    "# Code for Exercise 2\n",
    "# 7 weeks, 7 days per week, 24 hours per day \n",
    "\n",
    "7 * 7 * 24\n",
    "hours_per_day = 24\n",
    "days_per_week = 7\n",
    "total_weeks = 7\n",
    "print(\"In seven weeks there are a total number of \" + str(hours_per_day*days_per_week*total_weeks) + \" hours.\")\n"
   ]
  },
  {
   "cell_type": "markdown",
   "metadata": {
    "slideshow": {
     "slide_type": "slide"
    }
   },
   "source": [
    "## Functions:\n",
    "\n",
    "Functions are \"Mini-\" or short cut programmes which can be repeatedly run for particular tasks. They are invoked in the pattern:\n",
    "\n",
    "`name_of_function(arguments)`"
   ]
  },
  {
   "cell_type": "code",
   "execution_count": 52,
   "metadata": {
    "slideshow": {
     "slide_type": "subslide"
    }
   },
   "outputs": [
    {
     "data": {
      "text/plain": [
       "7"
      ]
     },
     "execution_count": 52,
     "metadata": {},
     "output_type": "execute_result"
    }
   ],
   "source": [
    "x = 'String' + ' '\n",
    "len(x) # gives you the number of the characters in x"
   ]
  },
  {
   "cell_type": "markdown",
   "metadata": {
    "slideshow": {
     "slide_type": "subslide"
    }
   },
   "source": [
    "typing `?`  (alternatively key combination *Shift + Tab*) opens the `help` window:"
   ]
  },
  {
   "cell_type": "code",
   "execution_count": 53,
   "metadata": {
    "slideshow": {
     "slide_type": "fragment"
    }
   },
   "outputs": [],
   "source": [
    "?len"
   ]
  },
  {
   "cell_type": "markdown",
   "metadata": {
    "slideshow": {
     "slide_type": "subslide"
    }
   },
   "source": [
    "### Strings\n",
    "\n",
    "An arbitrarily long sequence of characters. Starts either with `'` or `\"` and **needs** to be closed with the identical sign. Once defined Strings are **immutable**."
   ]
  },
  {
   "cell_type": "code",
   "execution_count": 55,
   "metadata": {
    "scrolled": true,
    "slideshow": {
     "slide_type": "fragment"
    }
   },
   "outputs": [
    {
     "name": "stdout",
     "output_type": "stream",
     "text": [
      "String\n"
     ]
    },
    {
     "ename": "NameError",
     "evalue": "name 'String' is not defined",
     "output_type": "error",
     "traceback": [
      "\u001b[0;31m---------------------------------------------------------------------------\u001b[0m",
      "\u001b[0;31mNameError\u001b[0m                                 Traceback (most recent call last)",
      "\u001b[0;32m<ipython-input-55-8dfb0e6d0eb8>\u001b[0m in \u001b[0;36m<module>\u001b[0;34m\u001b[0m\n\u001b[1;32m      1\u001b[0m \u001b[0mprint\u001b[0m\u001b[0;34m(\u001b[0m\u001b[0;34m\"String\"\u001b[0m\u001b[0;34m)\u001b[0m\u001b[0;34m\u001b[0m\u001b[0;34m\u001b[0m\u001b[0m\n\u001b[0;32m----> 2\u001b[0;31m \u001b[0mprint\u001b[0m\u001b[0;34m(\u001b[0m\u001b[0mString\u001b[0m\u001b[0;34m)\u001b[0m\u001b[0;34m\u001b[0m\u001b[0;34m\u001b[0m\u001b[0m\n\u001b[0m",
      "\u001b[0;31mNameError\u001b[0m: name 'String' is not defined"
     ]
    }
   ],
   "source": [
    "print(\"String\")"
   ]
  },
  {
   "cell_type": "code",
   "execution_count": 56,
   "metadata": {
    "scrolled": true,
    "slideshow": {
     "slide_type": "subslide"
    }
   },
   "outputs": [
    {
     "ename": "SyntaxError",
     "evalue": "EOL while scanning string literal (<ipython-input-56-c187804300e1>, line 1)",
     "output_type": "error",
     "traceback": [
      "\u001b[0;36m  File \u001b[0;32m\"<ipython-input-56-c187804300e1>\"\u001b[0;36m, line \u001b[0;32m1\u001b[0m\n\u001b[0;31m    \"String'\u001b[0m\n\u001b[0m            ^\u001b[0m\n\u001b[0;31mSyntaxError\u001b[0m\u001b[0;31m:\u001b[0m EOL while scanning string literal\n"
     ]
    }
   ],
   "source": [
    "\"String'"
   ]
  },
  {
   "cell_type": "code",
   "execution_count": null,
   "metadata": {
    "scrolled": true,
    "slideshow": {
     "slide_type": "fragment"
    }
   },
   "outputs": [],
   "source": [
    "'don't' \n",
    "# this will not work "
   ]
  },
  {
   "cell_type": "code",
   "execution_count": 57,
   "metadata": {
    "slideshow": {
     "slide_type": "fragment"
    }
   },
   "outputs": [
    {
     "data": {
      "text/plain": [
       "\"don't\""
      ]
     },
     "execution_count": 57,
     "metadata": {},
     "output_type": "execute_result"
    }
   ],
   "source": [
    "'don\\'t' # this works, so include apostrophe \\'"
   ]
  },
  {
   "cell_type": "markdown",
   "metadata": {
    "slideshow": {
     "slide_type": "slide"
    }
   },
   "source": [
    "## Indexation\n",
    "\n",
    "Python objects that represent an ordered sequence (e.g. Strings, lists, tuples) can be queried through an Index.\n",
    "This index allows it to specify/retrieve/modify the corresponding element (or group) within the sequence.\n",
    "\n",
    "In general this pattern holds formally:\n",
    "\n",
    "`Object[i:j:k]` = from `i` (including) through below `j` (excluding) in `k` steps."
   ]
  },
  {
   "cell_type": "markdown",
   "metadata": {
    "slideshow": {
     "slide_type": "subslide"
    }
   },
   "source": [
    "### Python starts in the basement (0)!\n",
    "\n",
    "Python implements a zero-based indexation which makes the first element (differently to `R`, for example) correspond to a `0`:"
   ]
  },
  {
   "cell_type": "code",
   "execution_count": 58,
   "metadata": {
    "slideshow": {
     "slide_type": "subslide"
    }
   },
   "outputs": [
    {
     "name": "stdout",
     "output_type": "stream",
     "text": [
      "t\n"
     ]
    }
   ],
   "source": [
    "x = 'String'\n",
    "print(x[1]) # we are showing the letter int he number 1 spot, which is \"t\""
   ]
  },
  {
   "cell_type": "code",
   "execution_count": 60,
   "metadata": {
    "slideshow": {
     "slide_type": "subslide"
    }
   },
   "outputs": [
    {
     "name": "stdout",
     "output_type": "stream",
     "text": [
      "r\n",
      "tring\n",
      "tr\n"
     ]
    }
   ],
   "source": [
    "print(x[2]) # the \"third\" element (0, 1, 2)\n",
    "print(x[1:]) # each element from 1 't'\n",
    "print(x[1:3]) # from 1 (including) through 3 (excluding)"
   ]
  },
  {
   "cell_type": "markdown",
   "metadata": {
    "slideshow": {
     "slide_type": "subslide"
    }
   },
   "source": [
    "### Exercise 3\n",
    "Given are two objects\n",
    "````\n",
    "str1 = \"Superkalilegorisch\"\n",
    "str2 = \"fragilistischexpial\"\n",
    "````\n",
    "Write Python code which returns the String *Superkalifragilistischexpiallegorisch*. Don't use quotation marks but indexation instead."
   ]
  },
  {
   "cell_type": "code",
   "execution_count": 68,
   "metadata": {
    "slideshow": {
     "slide_type": "subslide"
    }
   },
   "outputs": [
    {
     "name": "stdout",
     "output_type": "stream",
     "text": [
      "Superkalifragilistischexpiallegorisch\n",
      "True\n"
     ]
    }
   ],
   "source": [
    "# Code for Exercise 3\n",
    "str1 = \"Superkalilegorisch\"\n",
    "str2 = \"fragilistischexpial\"\n",
    "# ans = Superkali + fragilistischexpial + legorisch\n",
    "ans = str1[0:9] + str2[0:19] + str1[-9:]\n",
    "print(ans)\n",
    "print(ans == 'Superkalifragilistischexpiallegorisch')"
   ]
  },
  {
   "cell_type": "markdown",
   "metadata": {
    "slideshow": {
     "slide_type": "slide"
    }
   },
   "source": [
    "###  Data types\n",
    "\n",
    "The type of any objects can be queried through the function `type()`:"
   ]
  },
  {
   "cell_type": "code",
   "execution_count": 75,
   "metadata": {
    "slideshow": {
     "slide_type": "fragment"
    }
   },
   "outputs": [
    {
     "name": "stdout",
     "output_type": "stream",
     "text": [
      "12\n",
      "12\n"
     ]
    },
    {
     "data": {
      "text/plain": [
       "float"
      ]
     },
     "execution_count": 75,
     "metadata": {},
     "output_type": "execute_result"
    }
   ],
   "source": [
    "a = \"foo\"\n",
    "b = 4 + 2.0\n",
    "c = 5 * \"7\"\n",
    "d = \"4 - 1\"\n",
    "\n",
    "print(str(5 + 7)) # will be treated as string\n",
    "print(5 + 7) # will not be treated as a string \n",
    "type(b)"
   ]
  },
  {
   "cell_type": "markdown",
   "metadata": {
    "slideshow": {
     "slide_type": "subslide"
    }
   },
   "source": [
    "Depending on data type different operations are admissible/possible. Individual components of a String are immutable:"
   ]
  },
  {
   "cell_type": "code",
   "execution_count": 77,
   "metadata": {
    "slideshow": {
     "slide_type": "fragment"
    }
   },
   "outputs": [
    {
     "ename": "TypeError",
     "evalue": "'str' object does not support item assignment",
     "output_type": "error",
     "traceback": [
      "\u001b[0;31m---------------------------------------------------------------------------\u001b[0m",
      "\u001b[0;31mTypeError\u001b[0m                                 Traceback (most recent call last)",
      "\u001b[0;32m<ipython-input-77-8b859d25ba2f>\u001b[0m in \u001b[0;36m<module>\u001b[0;34m\u001b[0m\n\u001b[1;32m      1\u001b[0m \u001b[0;31m## Immutable\u001b[0m\u001b[0;34m\u001b[0m\u001b[0;34m\u001b[0m\u001b[0;34m\u001b[0m\u001b[0m\n\u001b[1;32m      2\u001b[0m \u001b[0ms1\u001b[0m \u001b[0;34m=\u001b[0m \u001b[0;34m'Spam, Spam, beans and eggs'\u001b[0m\u001b[0;34m\u001b[0m\u001b[0;34m\u001b[0m\u001b[0m\n\u001b[0;32m----> 3\u001b[0;31m \u001b[0ms1\u001b[0m\u001b[0;34m[\u001b[0m\u001b[0;36m4\u001b[0m\u001b[0;34m]\u001b[0m \u001b[0;34m=\u001b[0m \u001b[0;34m'x'\u001b[0m \u001b[0;31m# Error\u001b[0m\u001b[0;34m\u001b[0m\u001b[0;34m\u001b[0m\u001b[0m\n\u001b[0m",
      "\u001b[0;31mTypeError\u001b[0m: 'str' object does not support item assignment"
     ]
    }
   ],
   "source": [
    "## Immutable\n",
    "s1 = 'Spam, Spam, beans and eggs'\n",
    "s1[4] = 'x' # Error"
   ]
  },
  {
   "cell_type": "markdown",
   "metadata": {
    "slideshow": {
     "slide_type": "subslide"
    }
   },
   "source": [
    "Exception: Construction of a new String"
   ]
  },
  {
   "cell_type": "code",
   "execution_count": 81,
   "metadata": {
    "slideshow": {
     "slide_type": "fragment"
    }
   },
   "outputs": [
    {
     "name": "stdout",
     "output_type": "stream",
     "text": [
      "Spam, Spam, beans and eggs with Spam on the side! with Spam on the side! with Spam on the side! with Spam on the side!\n"
     ]
    }
   ],
   "source": [
    "# Adding and object assignment in one step through +=\n",
    "s1 += ' with Spam on the side!'\n",
    "# so this is adding the phrase as an element to the varaible object \"s1\"\n",
    "print(s1)"
   ]
  },
  {
   "cell_type": "markdown",
   "metadata": {
    "slideshow": {
     "slide_type": "subslide"
    }
   },
   "source": [
    "Some useful functions and methods for processing of Strings:"
   ]
  },
  {
   "cell_type": "code",
   "execution_count": 83,
   "metadata": {
    "slideshow": {
     "slide_type": "fragment"
    }
   },
   "outputs": [
    {
     "name": "stdout",
     "output_type": "stream",
     "text": [
      "6\n",
      "24\n",
      "SPAM, SPAM, BEANS AND EGGS WITH SPAM ON THE SIDE! WITH SPAM ON THE SIDE! WITH SPAM ON THE SIDE! WITH SPAM ON THE SIDE!\n"
     ]
    }
   ],
   "source": [
    "## How much Spam?\n",
    "print(s1.lower().count('spam')) \n",
    "# first step \"s1.lower\" converts all letters in the s1 string to lowercase, \n",
    "# and then the count step counts how many times says \"spam\"\n",
    "\n",
    "## How many words?\n",
    "print(s1.count(' '))\n",
    "\n",
    "s1 = s1.upper()\n",
    "print(s1)"
   ]
  },
  {
   "cell_type": "code",
   "execution_count": 84,
   "metadata": {
    "slideshow": {
     "slide_type": "subslide"
    }
   },
   "outputs": [
    {
     "name": "stdout",
     "output_type": "stream",
     "text": [
      "SPAM, SPAM, BEANS AND EGGS WITH SPAM ON THE SIDE! WITH SPAM ON THE SIDE! WITH SPAM ON THE SIDE! WITH SPAM ON THE SIDE!\n",
      "<class 'int'>\n"
     ]
    },
    {
     "data": {
      "text/plain": [
       "'BEANS AND EGGS WITH SPAM ON THE SIDE! WITH SPAM ON THE SIDE! WITH SPAM ON THE SIDE! WITH SPAM ON THE SIDE!'"
      ]
     },
     "execution_count": 84,
     "metadata": {},
     "output_type": "execute_result"
    }
   ],
   "source": [
    "## Finding first index place of a given element:\n",
    "print(s1)\n",
    "index = s1.find('BEANS')\n",
    "print(type(index))\n",
    "s1[index:]"
   ]
  },
  {
   "cell_type": "code",
   "execution_count": null,
   "metadata": {
    "slideshow": {
     "slide_type": "subslide"
    }
   },
   "outputs": [],
   "source": [
    "print(s1)\n",
    "s1.islower() # uppercase"
   ]
  },
  {
   "cell_type": "code",
   "execution_count": null,
   "metadata": {
    "slideshow": {
     "slide_type": "subslide"
    }
   },
   "outputs": [],
   "source": [
    "print(s1)\n",
    "print(s1.replace(' ', '_')) # replace"
   ]
  },
  {
   "cell_type": "markdown",
   "metadata": {
    "slideshow": {
     "slide_type": "subslide"
    }
   },
   "source": [
    "### Exercise 4\n",
    "\n",
    "Given are three Strings. Combine those Strings to a new object such that all letters are stored in lower cases. Replace all whitespaces (\" \") by underscores `_`. How many times does the letter *i* appear in the new constructed String?"
   ]
  },
  {
   "cell_type": "code",
   "execution_count": 91,
   "metadata": {
    "slideshow": {
     "slide_type": "subslide"
    }
   },
   "outputs": [
    {
     "name": "stdout",
     "output_type": "stream",
     "text": [
      "Simple is better than complex. COMPLEX IS BETTER THAN COMPLICATED. flat is better than nested.\n",
      "simple is better than complex. complex is better than complicated. flat is better than nested.\n",
      "_s_i_m_p_l_e_ _i_s_ _b_e_t_t_e_r_ _t_h_a_n_ _c_o_m_p_l_e_x_._ _c_o_m_p_l_e_x_ _i_s_ _b_e_t_t_e_r_ _t_h_a_n_ _c_o_m_p_l_i_c_a_t_e_d_._ _f_l_a_t_ _i_s_ _b_e_t_t_e_r_ _t_h_a_n_ _n_e_s_t_e_d_._\n",
      "5\n"
     ]
    }
   ],
   "source": [
    "# Code for Exercise 4\n",
    "zen_ = \"Simple is better than complex. \"\n",
    "of_ = \"COMPLEX IS BETTER THAN COMPLICATED. \"\n",
    "python_ = \"flat is better than nested.\"\n",
    "\n",
    "# Create var/symbol with all three phrases\n",
    "newob = zen_ + of_ + python_\n",
    "print(newob)\n",
    "\n",
    "# Make phrase lowercase\n",
    "newob = newob.lower()\n",
    "print(newob)\n",
    "\n",
    "# Replace whitespace \"\" with underscore \"_\"\n",
    "newob_underscore = newob.replace('','_') # I\"ve done something wrong here!\n",
    "print(newob_underscore)\n",
    "\n",
    "#Count \"i\"\n",
    "print(newob.count('i')) "
   ]
  },
  {
   "cell_type": "markdown",
   "metadata": {
    "slideshow": {
     "slide_type": "slide"
    }
   },
   "source": [
    "## Lists\n",
    "\n",
    "Lists are immutable sequences. They start with `[` and end with `]`. Individual elements are separated by `,`. Lists do have an index by default."
   ]
  },
  {
   "cell_type": "code",
   "execution_count": 92,
   "metadata": {
    "slideshow": {
     "slide_type": "subslide"
    }
   },
   "outputs": [
    {
     "name": "stdout",
     "output_type": "stream",
     "text": [
      "8\n"
     ]
    },
    {
     "data": {
      "text/plain": [
       "list"
      ]
     },
     "execution_count": 92,
     "metadata": {},
     "output_type": "execute_result"
    }
   ],
   "source": [
    "numbers = [1, 3, 3, 7] # numbers is a list \n",
    "print(numbers[0] + numbers[-1]) # should print zero index element \"1\" and adds it to the last element of the list\n",
    "type(numbers)"
   ]
  },
  {
   "cell_type": "code",
   "execution_count": 100,
   "metadata": {
    "slideshow": {
     "slide_type": "subslide"
    }
   },
   "outputs": [
    {
     "name": "stdout",
     "output_type": "stream",
     "text": [
      "Sp@m\n",
      "@\n"
     ]
    }
   ],
   "source": [
    "L = ['Spam', 'Sp@m', 'beans', 'and', 'eggs', [1, 2, 5]] # you can also stack lists inside of lists\n",
    "print(L[1]) # from the first element in the list \"Sp@m\" \n",
    "print(L[1][2])# retrieve index position 2 of the first element in the list \"Sp@m\" "
   ]
  },
  {
   "cell_type": "code",
   "execution_count": 101,
   "metadata": {
    "slideshow": {
     "slide_type": "subslide"
    }
   },
   "outputs": [
    {
     "name": "stdout",
     "output_type": "stream",
     "text": [
      "['Spam', 'Sp@m', 'beans', 'and', 'eggs', [1, 2, 5]]\n",
      "['Spam', 'Sp@m', 'Spam', 'and', 'eggs', [1, 2, 5]]\n"
     ]
    }
   ],
   "source": [
    "## not immutable:\n",
    "print(L)\n",
    "L[2] = 'Spam' # replace original 2nd item in list \"L\" with \"Spam\"\n",
    "print(L)"
   ]
  },
  {
   "cell_type": "code",
   "execution_count": 103,
   "metadata": {
    "scrolled": true,
    "slideshow": {
     "slide_type": "subslide"
    }
   },
   "outputs": [
    {
     "name": "stdout",
     "output_type": "stream",
     "text": [
      "['Spam', 'Sp@m', ['Spam'], 'and', 'eggs', [1, 2, 5]]\n"
     ]
    }
   ],
   "source": [
    "## Difference?\n",
    "L[2] = ['Spam'] # Note: List of list!\n",
    "print(L)"
   ]
  },
  {
   "cell_type": "code",
   "execution_count": 102,
   "metadata": {
    "slideshow": {
     "slide_type": "subslide"
    }
   },
   "outputs": [
    {
     "name": "stdout",
     "output_type": "stream",
     "text": [
      "['Spam', ' Spam', ' beans and eggs']\n"
     ]
    }
   ],
   "source": [
    "## Splitting individual String elements into a list\n",
    "s2 = 'Spam, Spam, beans and eggs'\n",
    "print(s2.split(','))"
   ]
  },
  {
   "cell_type": "markdown",
   "metadata": {
    "slideshow": {
     "slide_type": "slide"
    }
   },
   "source": [
    "### Functions vs. Methods\n",
    "\n",
    "Functions are \"fed\" with an object (=input) which they use to perform some operation(s). Their output is in general a new object. Methods are integrated in their objects. They \"instruct\" their objects to perform some operation(s) on themselves and are hence modified \"on-the-fly\"."
   ]
  },
  {
   "cell_type": "code",
   "execution_count": 105,
   "metadata": {
    "slideshow": {
     "slide_type": "subslide"
    }
   },
   "outputs": [
    {
     "data": {
      "text/plain": [
       "[400, 'g', 'a', 1]"
      ]
     },
     "execution_count": 105,
     "metadata": {},
     "output_type": "execute_result"
    }
   ],
   "source": [
    "## Sort list as a function:\n",
    "L = [400, 'g', 'a', 1]\n",
    "L"
   ]
  },
  {
   "cell_type": "code",
   "execution_count": 108,
   "metadata": {
    "slideshow": {
     "slide_type": "subslide"
    }
   },
   "outputs": [
    {
     "name": "stdout",
     "output_type": "stream",
     "text": [
      "[400, 1]\n"
     ]
    }
   ],
   "source": [
    "L1 = [L[0], L[-1]]\n",
    "print(L1)"
   ]
  },
  {
   "cell_type": "code",
   "execution_count": 109,
   "metadata": {
    "slideshow": {
     "slide_type": "subslide"
    }
   },
   "outputs": [
    {
     "name": "stdout",
     "output_type": "stream",
     "text": [
      "['g', 'a']\n"
     ]
    }
   ],
   "source": [
    "L2 = [L[1], L[2]]\n",
    "print(L2)"
   ]
  },
  {
   "cell_type": "code",
   "execution_count": 110,
   "metadata": {
    "slideshow": {
     "slide_type": "subslide"
    }
   },
   "outputs": [
    {
     "name": "stdout",
     "output_type": "stream",
     "text": [
      "[1, 400]\n"
     ]
    }
   ],
   "source": [
    "print(sorted(L1))"
   ]
  },
  {
   "cell_type": "code",
   "execution_count": 111,
   "metadata": {},
   "outputs": [
    {
     "name": "stdout",
     "output_type": "stream",
     "text": [
      "['a', 'g']\n"
     ]
    }
   ],
   "source": [
    "print(sorted(L2))"
   ]
  },
  {
   "cell_type": "code",
   "execution_count": 112,
   "metadata": {},
   "outputs": [
    {
     "name": "stdout",
     "output_type": "stream",
     "text": [
      "['g', 'a']\n"
     ]
    }
   ],
   "source": [
    "print(L2)"
   ]
  },
  {
   "cell_type": "code",
   "execution_count": 113,
   "metadata": {
    "slideshow": {
     "slide_type": "subslide"
    }
   },
   "outputs": [
    {
     "name": "stdout",
     "output_type": "stream",
     "text": [
      "['g', 'a']\n",
      "['a', 'g']\n"
     ]
    }
   ],
   "source": [
    "## Sort list as method:\n",
    "print(L2)\n",
    "L2.sort()\n",
    "l2.sort(reverse=true)\n",
    "print(L2)"
   ]
  },
  {
   "cell_type": "markdown",
   "metadata": {},
   "source": [
    "<br>\n",
    "<br>\n",
    "\n",
    "\n",
    "___\n",
    "\n",
    "                \n",
    "**Contact: Gerome Wolf** (Email: wolfgerome@gmail.com)"
   ]
  }
 ],
 "metadata": {
  "kernelspec": {
   "display_name": "Python 3",
   "language": "python",
   "name": "python3"
  },
  "language_info": {
   "codemirror_mode": {
    "name": "ipython",
    "version": 3
   },
   "file_extension": ".py",
   "mimetype": "text/x-python",
   "name": "python",
   "nbconvert_exporter": "python",
   "pygments_lexer": "ipython3",
   "version": "3.9.2"
  }
 },
 "nbformat": 4,
 "nbformat_minor": 2
}
